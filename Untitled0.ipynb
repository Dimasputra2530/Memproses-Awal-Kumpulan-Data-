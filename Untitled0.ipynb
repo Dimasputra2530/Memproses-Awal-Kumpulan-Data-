{
  "nbformat": 4,
  "nbformat_minor": 0,
  "metadata": {
    "colab": {
      "provenance": [],
      "authorship_tag": "ABX9TyPrsCTOUVajryPZJC9p0Uj1",
      "include_colab_link": true
    },
    "kernelspec": {
      "name": "python3",
      "display_name": "Python 3"
    },
    "language_info": {
      "name": "python"
    }
  },
  "cells": [
    {
      "cell_type": "markdown",
      "metadata": {
        "id": "view-in-github",
        "colab_type": "text"
      },
      "source": [
        "<a href=\"https://colab.research.google.com/github/Dimasputra2530/Memproses-Awal-Kumpulan-Data-/blob/main/Untitled0.ipynb\" target=\"_parent\"><img src=\"https://colab.research.google.com/assets/colab-badge.svg\" alt=\"Open In Colab\"/></a>"
      ]
    },
    {
      "cell_type": "code",
      "execution_count": null,
      "metadata": {
        "id": "FTCbfoHCc5OK"
      },
      "outputs": [],
      "source": [
        "# Mengimpor pustaka yang diperlukan\n",
        "import numpy as np\n",
        "import pandas as pd\n",
        "from sklearn.model_selection import train_test_split\n",
        "\n",
        "# Memuat dataset Iris\n",
        "dataset = pd.read_csv('iris.csv')\n",
        "\n",
        "# Membuat matriks fitur (X) dan vektor variabel dependen (y)\n",
        "X = dataset.iloc[:, :-1].values\n",
        "y = dataset.iloc[:, -1].values\n",
        "\n",
        "# Mencetak matriks fitur dan vektor variabel dependen\n",
        "print(X)\n",
        "print(y)"
      ]
    }
  ]
}